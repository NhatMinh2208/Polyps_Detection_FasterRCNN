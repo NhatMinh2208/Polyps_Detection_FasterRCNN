{
 "cells": [
  {
   "cell_type": "code",
   "execution_count": 1,
   "id": "6afca696",
   "metadata": {},
   "outputs": [],
   "source": [
    "import numpy as np\n",
    "import torch"
   ]
  },
  {
   "cell_type": "code",
   "execution_count": 3,
   "id": "18003358",
   "metadata": {},
   "outputs": [
    {
     "name": "stdout",
     "output_type": "stream",
     "text": [
      "[(2.0, 8.0), (3.0, 12.0), (4.0, 16.0), (2.8284271247461903, 5.656854249492381), (4.242640687119286, 8.485281374238571), (5.656854249492381, 11.313708498984761), (3.794733192202055, 4.216370213557839), (5.692099788303082, 6.324555320336759), (7.58946638440411, 8.432740427115679)]\n"
     ]
    }
   ],
   "source": [
    "ANCHORS_RATIOS = [0.25, 0.5, 0.9]\n",
    "ANCHORS_SCALES = [4, 6, 8]\n",
    "dimensions = []\n",
    "for r in ANCHORS_RATIOS:\n",
    "    for s in ANCHORS_SCALES:\n",
    "        width = s * np.sqrt(r)\n",
    "        height = s * np.sqrt(1.0 / r)\n",
    "        dimensions.append((width, height))\n",
    "print(dimensions)"
   ]
  },
  {
   "cell_type": "code",
   "execution_count": 4,
   "id": "2506215a",
   "metadata": {},
   "outputs": [
    {
     "name": "stdout",
     "output_type": "stream",
     "text": [
      "16.0\n"
     ]
    },
    {
     "data": {
      "text/plain": [
       "array([[472.        , 424.        , 504.        , 552.        ],\n",
       "       [464.        , 392.        , 512.        , 584.        ],\n",
       "       [456.        , 360.        , 520.        , 616.        ],\n",
       "       [465.372583  , 442.745166  , 510.627417  , 533.254834  ],\n",
       "       [454.0588745 , 420.11774901, 521.9411255 , 555.88225099],\n",
       "       [442.745166  , 397.49033201, 533.254834  , 578.50966799],\n",
       "       [457.64213446, 454.26903829, 518.35786554, 521.73096171],\n",
       "       [442.46320169, 437.40355744, 533.53679831, 538.59644256],\n",
       "       [427.28426892, 420.53807658, 548.71573108, 555.46192342]])"
      ]
     },
     "execution_count": 4,
     "metadata": {},
     "output_type": "execute_result"
    }
   ],
   "source": [
    "INPUT_SIZE = (1600, 800)\n",
    "OUTPUT_SIZE = (100, 50)\n",
    "OUTPUT_CELL_SIZE = float(INPUT_SIZE[0]) / float(OUTPUT_SIZE[0])\n",
    "print(OUTPUT_CELL_SIZE)\n",
    "x = 30\n",
    "y = 30\n",
    "anchors1 = np.zeros((9, 4))\n",
    "for i in range(9):\n",
    "        center_x = OUTPUT_CELL_SIZE * (float(x) + 0.5)\n",
    "        center_y = OUTPUT_CELL_SIZE * (float(y) + 0.5)\n",
    "\n",
    "        width = dimensions[i][0] * OUTPUT_CELL_SIZE\n",
    "        height = dimensions[i][1] * OUTPUT_CELL_SIZE\n",
    "\n",
    "        top_x = center_x - width / 2.0\n",
    "        top_y = center_y - height / 2.0\n",
    "        anchors1[i, :] = [top_x, top_y, top_x + width, top_y + height]\n",
    "anchors1"
   ]
  },
  {
   "cell_type": "code",
   "execution_count": 5,
   "id": "7bc82e72",
   "metadata": {},
   "outputs": [
    {
     "name": "stdout",
     "output_type": "stream",
     "text": [
      "get_image_anchors\n"
     ]
    },
    {
     "data": {
      "text/plain": [
       "(array([    0,     1,     2, ..., 44997, 44998, 44999], dtype=int64),)"
      ]
     },
     "execution_count": 5,
     "metadata": {},
     "output_type": "execute_result"
    }
   ],
   "source": [
    "print('get_image_anchors')\n",
    "NUMBER_ANCHORS_WIDE = 100\n",
    "NUMBER_ANCHORS_HEIGHT = 50\n",
    "anchor_number = 9\n",
    "anchors = np.zeros((NUMBER_ANCHORS_WIDE, NUMBER_ANCHORS_HEIGHT, anchor_number, 4))\n",
    "\n",
    "for i in range(NUMBER_ANCHORS_WIDE):\n",
    "    for j in range(NUMBER_ANCHORS_HEIGHT):\n",
    "            anchors_pos = anchors1\n",
    "            anchors[30, 30, :] = anchors_pos\n",
    "anchors = anchors.reshape((-1, 4))\n",
    "filter_out = (anchors[:, 0] < 0) | (anchors[:, 1] < 0) | (anchors[:, 2] > INPUT_SIZE[0]) | (anchors[:, 3] > INPUT_SIZE[1])\n",
    "anchors.shape\n",
    "np.where(~filter_out)"
   ]
  },
  {
   "cell_type": "code",
   "execution_count": 15,
   "id": "0432221d",
   "metadata": {},
   "outputs": [
    {
     "ename": "TypeError",
     "evalue": "unhashable type: 'list'",
     "output_type": "error",
     "traceback": [
      "\u001b[1;31m---------------------------------------------------------------------------\u001b[0m",
      "\u001b[1;31mTypeError\u001b[0m                                 Traceback (most recent call last)",
      "\u001b[1;32m<ipython-input-15-7d37e863bee7>\u001b[0m in \u001b[0;36m<module>\u001b[1;34m\u001b[0m\n\u001b[1;32m----> 1\u001b[1;33m \u001b[0mb\u001b[0m \u001b[1;33m=\u001b[0m \u001b[1;33m{\u001b[0m\u001b[1;33m[\u001b[0m\u001b[1;36m1\u001b[0m\u001b[1;33m,\u001b[0m\u001b[1;36m3\u001b[0m\u001b[1;33m,\u001b[0m\u001b[1;36m4\u001b[0m\u001b[1;33m]\u001b[0m\u001b[1;33m}\u001b[0m\u001b[1;33m\u001b[0m\u001b[1;33m\u001b[0m\u001b[0m\n\u001b[0m\u001b[0;32m      2\u001b[0m \u001b[0mb\u001b[0m\u001b[1;33m\u001b[0m\u001b[1;33m\u001b[0m\u001b[0m\n",
      "\u001b[1;31mTypeError\u001b[0m: unhashable type: 'list'"
     ]
    }
   ],
   "source": [
    "b = {[1,3,4]}\n",
    "b "
   ]
  }
 ],
 "metadata": {
  "kernelspec": {
   "display_name": "Python 3",
   "language": "python",
   "name": "python3"
  },
  "language_info": {
   "codemirror_mode": {
    "name": "ipython",
    "version": 3
   },
   "file_extension": ".py",
   "mimetype": "text/x-python",
   "name": "python",
   "nbconvert_exporter": "python",
   "pygments_lexer": "ipython3",
   "version": "3.8.8"
  }
 },
 "nbformat": 4,
 "nbformat_minor": 5
}
